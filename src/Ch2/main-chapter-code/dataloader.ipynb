{
    "cells": [
        {
            "cell_type": "code",
            "execution_count": 1,
            "id": "06536ab0",
            "metadata": {
                "trusted": true
            },
            "outputs": [
                {
                    "name": "stdout",
                    "output_type": "stream",
                    "text": "torch version: 2.5.1\ntiktoken version: 0.8.0\n"
                }
            ],
            "source": "from importlib.metadata import version\n\nprint(\"torch version:\", version(\"torch\"))\nprint(\"tiktoken version:\", version(\"tiktoken\"))\n\nimport tiktoken\nimport torch\nfrom torch.utils.data import DataLoader, Dataset"
        },
        {
            "cell_type": "code",
            "execution_count": null,
            "id": "f9ad7940",
            "metadata": {
                "trusted": true
            },
            "outputs": [],
            "source": "from typing_extensions import override\n\n\nclass GPTDatasetV1(Dataset):\n    def __init__(\n        self, txt: str, tokenizer: tiktoken.Encoding, max_length: int, stride: int\n    ) -> None:\n        self.input_ids = []\n        self.target_ids = []\n\n        token_ids = tokenizer.encode(txt, allowed_special={\"<|endoftext|>\"})\n\n        for i in range(0, len(token_ids) - max_length, stride):\n            input_chunk = token_ids[i : i + max_length]\n            target_chunk = token_ids[i + 1 : i + max_length + 1]\n            self.input_ids.append(torch.tensor(input_chunk))\n            self.target_ids.append(torch.tensor(target_chunk))\n\n    def __len__(self) -> int:\n        return len(self.input_ids)\n\n    @override\n    def __getitem__(self, idx: int) -> tuple[torch.Tensor, torch.Tensor]:\n        return self.input_ids[idx], self.target_ids[idx]\n\n\ndef create_dataloader_v1(\n    txt: str,\n    bs: int = 4,\n    max_length: int = 256,\n    stride: int = 128,\n    shuffle: bool = True,\n    drop_last: bool = True,\n    num_workers: int = 0,\n) -> DataLoader:\n    tokenizer = tiktoken.get_encoding(\"gpt2\")\n    dataset = GPTDatasetV1(txt, tokenizer, max_length, stride)\n    dataloader = DataLoader(\n        dataset,\n        batch_size=bs,\n        shuffle=shuffle,\n        drop_last=drop_last,\n        num_workers=num_workers,\n    )\n\n    return dataloader"
        },
        {
            "cell_type": "code",
            "execution_count": 3,
            "id": "873db445",
            "metadata": {
                "trusted": true
            },
            "outputs": [],
            "source": "with open(\"the-verdict.txt\", \"r\", encoding=\"utf-8\") as f:\n    raw_text = f.read()\n\nvocab_size = 50257\noutput_dim = 256\ncontext_length = 1024\n\n\ntoken_embedding_layer = torch.nn.Embedding(vocab_size, output_dim)\npos_embedding_layer = torch.nn.Embedding(context_length, output_dim)\n\nbatch_size = 8\nmax_length = 4\ndataloader = create_dataloader_v1(\n    raw_text, bs=batch_size, max_length=max_length, stride=max_length\n)"
        },
        {
            "cell_type": "code",
            "execution_count": 4,
            "id": "6adbd2b0",
            "metadata": {
                "trusted": true
            },
            "outputs": [],
            "source": "for batch in dataloader:\n    x, y = batch\n\n    token_embeddings = token_embedding_layer(x)\n    pos_embeddings = pos_embedding_layer(torch.arange(max_length))\n\n    input_embeddings = token_embeddings + pos_embeddings\n\n    break"
        },
        {
            "cell_type": "code",
            "execution_count": 5,
            "id": "99b99dae",
            "metadata": {
                "trusted": true
            },
            "outputs": [
                {
                    "name": "stdout",
                    "output_type": "stream",
                    "text": "torch.Size([8, 4, 256])\n"
                }
            ],
            "source": "print(input_embeddings.shape)"
        }
    ],
    "metadata": {
        "kernelspec": {
            "display_name": "Python 3 (ipykernel)",
            "language": "python",
            "name": "python3"
        },
        "language_info": {
            "codemirror_mode": {
                "name": "ipython",
                "version": 3
            },
            "file_extension": ".py",
            "mimetype": "text/x-python",
            "name": "python",
            "nbconvert_exporter": "python",
            "pygments_lexer": "ipython3",
            "version": "3.9.18"
        }
    },
    "nbformat": 4,
    "nbformat_minor": 5
}
